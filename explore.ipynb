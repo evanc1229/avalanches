{
 "cells": [
  {
   "cell_type": "code",
   "execution_count": 1,
   "id": "00fba279-743e-4f5a-9802-ab9c4995480c",
   "metadata": {},
   "outputs": [],
   "source": [
    "import pandas as pd\n",
    "import numpy as np\n",
    "import matplotlib.pyplot as plt"
   ]
  },
  {
   "cell_type": "code",
   "execution_count": 2,
   "id": "f92bfaa5-70e8-460a-8f49-1c75a0750e2c",
   "metadata": {},
   "outputs": [],
   "source": [
    "df = pd.read_csv('avalanches.csv')df = pd.read_csv('avalanches.csv')"
   ]
  },
  {
   "cell_type": "code",
   "execution_count": 57,
   "id": "a5328853-11a3-4f00-bebf-0737c012c5de",
   "metadata": {},
   "outputs": [
    {
     "data": {
      "text/plain": [
       "(6355, 25)"
      ]
     },
     "execution_count": 57,
     "metadata": {},
     "output_type": "execute_result"
    }
   ],
   "source": [
    "df.shape"
   ]
  },
  {
   "cell_type": "code",
   "execution_count": 47,
   "id": "0847835f-e5d8-4036-83d9-a36e1aa67805",
   "metadata": {},
   "outputs": [
    {
     "data": {
      "text/plain": [
       "(50,)"
      ]
     },
     "execution_count": 47,
     "metadata": {},
     "output_type": "execute_result"
    }
   ],
   "source": [
    "df.Date.str.slice(-2).unique().shape"
   ]
  },
  {
   "cell_type": "code",
   "execution_count": 55,
   "id": "9930ad49-ae8b-4e0c-b756-393d618f4834",
   "metadata": {},
   "outputs": [
    {
     "data": {
      "text/plain": [
       "81"
      ]
     },
     "execution_count": 55,
     "metadata": {},
     "output_type": "execute_result"
    }
   ],
   "source": [
    "df.Date.str.slice(0,2).isin(['5/', '6/', '7/', '8/', '9/']).sum()"
   ]
  },
  {
   "cell_type": "code",
   "execution_count": 56,
   "id": "dc3aba18-7ae3-4b27-9da5-9edc75af64f9",
   "metadata": {},
   "outputs": [
    {
     "data": {
      "text/plain": [
       "(6355, 25)"
      ]
     },
     "execution_count": 56,
     "metadata": {},
     "output_type": "execute_result"
    }
   ],
   "source": [
    "df.shape"
   ]
  },
  {
   "cell_type": "code",
   "execution_count": 11,
   "id": "ad698ef2-7409-42c9-8d1e-e7563c61da85",
   "metadata": {},
   "outputs": [],
   "source": [
    "from nltk.corpus import stopwords\n",
    "stops = stopwords.words('english')"
   ]
  },
  {
   "cell_type": "code",
   "execution_count": 18,
   "id": "b6bb2343-c1cf-4b9b-8af8-17ea2e5c0156",
   "metadata": {},
   "outputs": [
    {
     "name": "stdout",
     "output_type": "stream",
     "text": [
      "Date\n",
      "Region\n",
      "Place\n",
      "Trigger\n",
      "Trigger: additional info\n",
      "Weak Layer\n",
      "Depth\n",
      "Width\n",
      "Vertical\n",
      "Aspect\n",
      "Elevation\n",
      "Coordinates\n",
      "Caught\n",
      "Carried\n",
      "Buried - Partly\n",
      "Buried - Fully\n",
      "Injured\n",
      "Killed\n",
      "Accident and Rescue Summary\n",
      "Terrain Summary\n",
      "Weather Conditions and History\n",
      "Comments 1\n",
      "Comments 2\n",
      "Comments 3\n",
      "Comments 4\n"
     ]
    }
   ],
   "source": [
    "print('\\n'.join(df.columns))"
   ]
  },
  {
   "cell_type": "code",
   "execution_count": 33,
   "id": "fb28d2e5-2770-4165-916c-497c84376a1d",
   "metadata": {},
   "outputs": [
    {
     "data": {
      "text/plain": [
       "1.0    80\n",
       "2.0     3\n",
       "4.0     1\n",
       "Name: Injured, dtype: int64"
      ]
     },
     "execution_count": 33,
     "metadata": {},
     "output_type": "execute_result"
    }
   ],
   "source": [
    "df['Injured'].value_counts()"
   ]
  },
  {
   "cell_type": "code",
   "execution_count": 7,
   "id": "f53c5483-58ce-4b4d-9204-6e26fed996e5",
   "metadata": {
    "tags": []
   },
   "outputs": [
    {
     "name": "stdout",
     "output_type": "stream",
     "text": [
      "Date\n"
     ]
    },
    {
     "data": {
      "text/plain": [
       "4780     2/11/2020\n",
       "520      1/30/2010\n",
       "1603     1/29/2012\n",
       "4831     2/25/2020\n",
       "1430    11/13/2011\n",
       "Name: Date, dtype: object"
      ]
     },
     "metadata": {},
     "output_type": "display_data"
    },
    {
     "name": "stdout",
     "output_type": "stream",
     "text": [
      "\n",
      "\n",
      "\n",
      "Region\n"
     ]
    },
    {
     "data": {
      "text/plain": [
       "3712       Uintas\n",
       "953         Provo\n",
       "6138         Moab\n",
       "818     Salt Lake\n",
       "2976    Salt Lake\n",
       "Name: Region, dtype: object"
      ]
     },
     "metadata": {},
     "output_type": "display_data"
    },
    {
     "name": "stdout",
     "output_type": "stream",
     "text": [
      "\n",
      "\n",
      "\n",
      "Place\n"
     ]
    },
    {
     "data": {
      "text/plain": [
       "281                  Claytons\n",
       "5153       Chicken Sh#! Ridge\n",
       "845                   Kessler\n",
       "1968    West Desolation Ridge\n",
       "1957         Smith-Moorehouse\n",
       "Name: Place, dtype: object"
      ]
     },
     "metadata": {},
     "output_type": "display_data"
    },
    {
     "name": "stdout",
     "output_type": "stream",
     "text": [
      "\n",
      "\n",
      "\n",
      "Trigger\n"
     ]
    },
    {
     "data": {
      "text/plain": [
       "3681          Skier\n",
       "5253        Natural\n",
       "4372    Snowboarder\n",
       "902           Skier\n",
       "266           Skier\n",
       "Name: Trigger, dtype: object"
      ]
     },
     "metadata": {},
     "output_type": "display_data"
    },
    {
     "name": "stdout",
     "output_type": "stream",
     "text": [
      "\n",
      "\n",
      "\n",
      "Trigger: additional info\n"
     ]
    },
    {
     "data": {
      "text/plain": [
       "2083         Remotely Triggered\n",
       "4726                        NaN\n",
       "4250                   Repeater\n",
       "5769                        NaN\n",
       "2350    Intentionally Triggered\n",
       "Name: Trigger: additional info, dtype: object"
      ]
     },
     "metadata": {},
     "output_type": "display_data"
    },
    {
     "name": "stdout",
     "output_type": "stream",
     "text": [
      "\n",
      "\n",
      "\n",
      "Weak Layer\n"
     ]
    },
    {
     "data": {
      "text/plain": [
       "1439                            NaN\n",
       "2322                            NaN\n",
       "4255                            NaN\n",
       "3460    New Snow/Old Snow Interface\n",
       "4085    New Snow/Old Snow Interface\n",
       "Name: Weak Layer, dtype: object"
      ]
     },
     "metadata": {},
     "output_type": "display_data"
    },
    {
     "name": "stdout",
     "output_type": "stream",
     "text": [
      "\n",
      "\n",
      "\n",
      "Depth\n"
     ]
    },
    {
     "data": {
      "text/plain": [
       "998     NaN\n",
       "4007    12\"\n",
       "5647     2'\n",
       "940     NaN\n",
       "4024     2'\n",
       "Name: Depth, dtype: object"
      ]
     },
     "metadata": {},
     "output_type": "display_data"
    },
    {
     "name": "stdout",
     "output_type": "stream",
     "text": [
      "\n",
      "\n",
      "\n",
      "Width\n"
     ]
    },
    {
     "data": {
      "text/plain": [
       "5795    30'\n",
       "4266    60'\n",
       "3075    25'\n",
       "4814    70'\n",
       "2023    80'\n",
       "Name: Width, dtype: object"
      ]
     },
     "metadata": {},
     "output_type": "display_data"
    },
    {
     "name": "stdout",
     "output_type": "stream",
     "text": [
      "\n",
      "\n",
      "\n",
      "Vertical\n"
     ]
    },
    {
     "data": {
      "text/plain": [
       "2671     NaN\n",
       "910     400'\n",
       "4907     NaN\n",
       "1170     NaN\n",
       "4051     50'\n",
       "Name: Vertical, dtype: object"
      ]
     },
     "metadata": {},
     "output_type": "display_data"
    },
    {
     "name": "stdout",
     "output_type": "stream",
     "text": [
      "\n",
      "\n",
      "\n",
      "Aspect\n"
     ]
    },
    {
     "data": {
      "text/plain": [
       "3653    Northeast\n",
       "3956        North\n",
       "2212    Northeast\n",
       "4587    Northeast\n",
       "2762        North\n",
       "Name: Aspect, dtype: object"
      ]
     },
     "metadata": {},
     "output_type": "display_data"
    },
    {
     "name": "stdout",
     "output_type": "stream",
     "text": [
      "\n",
      "\n",
      "\n",
      "Elevation\n"
     ]
    },
    {
     "data": {
      "text/plain": [
       "4489     9,900'\n",
       "3561     8,500'\n",
       "1019    11,600'\n",
       "2581        NaN\n",
       "6023     5,900'\n",
       "Name: Elevation, dtype: object"
      ]
     },
     "metadata": {},
     "output_type": "display_data"
    },
    {
     "name": "stdout",
     "output_type": "stream",
     "text": [
      "\n",
      "\n",
      "\n",
      "Coordinates\n"
     ]
    },
    {
     "data": {
      "text/plain": [
       "2260    40.622507000000, -111.660829000000\n",
       "413     41.955437000000, -111.621480000000\n",
       "1289    40.600924000000, -111.720526000000\n",
       "5608    39.523394537022, -111.300022589340\n",
       "5878    40.671736358852, -111.626737104990\n",
       "Name: Coordinates, dtype: object"
      ]
     },
     "metadata": {},
     "output_type": "display_data"
    },
    {
     "name": "stdout",
     "output_type": "stream",
     "text": [
      "\n",
      "\n",
      "\n",
      "Caught\n"
     ]
    },
    {
     "data": {
      "text/plain": [
       "2851    NaN\n",
       "5067    NaN\n",
       "6173    NaN\n",
       "261     NaN\n",
       "249     1.0\n",
       "Name: Caught, dtype: float64"
      ]
     },
     "metadata": {},
     "output_type": "display_data"
    },
    {
     "name": "stdout",
     "output_type": "stream",
     "text": [
      "\n",
      "\n",
      "\n",
      "Carried\n"
     ]
    },
    {
     "data": {
      "text/plain": [
       "389    NaN\n",
       "3995   NaN\n",
       "3421   NaN\n",
       "2202   NaN\n",
       "3258   NaN\n",
       "Name: Carried, dtype: float64"
      ]
     },
     "metadata": {},
     "output_type": "display_data"
    },
    {
     "name": "stdout",
     "output_type": "stream",
     "text": [
      "\n",
      "\n",
      "\n",
      "Buried - Partly\n"
     ]
    },
    {
     "data": {
      "text/plain": [
       "5566   NaN\n",
       "5836   NaN\n",
       "3915   NaN\n",
       "4375   NaN\n",
       "3354   NaN\n",
       "Name: Buried - Partly, dtype: float64"
      ]
     },
     "metadata": {},
     "output_type": "display_data"
    },
    {
     "name": "stdout",
     "output_type": "stream",
     "text": [
      "\n",
      "\n",
      "\n",
      "Buried - Fully\n"
     ]
    },
    {
     "data": {
      "text/plain": [
       "6012   NaN\n",
       "6059   NaN\n",
       "754    NaN\n",
       "1753   NaN\n",
       "3522   NaN\n",
       "Name: Buried - Fully, dtype: float64"
      ]
     },
     "metadata": {},
     "output_type": "display_data"
    },
    {
     "name": "stdout",
     "output_type": "stream",
     "text": [
      "\n",
      "\n",
      "\n",
      "Injured\n"
     ]
    },
    {
     "data": {
      "text/plain": [
       "1503   NaN\n",
       "671    NaN\n",
       "4848   NaN\n",
       "26     NaN\n",
       "2189   NaN\n",
       "Name: Injured, dtype: float64"
      ]
     },
     "metadata": {},
     "output_type": "display_data"
    },
    {
     "name": "stdout",
     "output_type": "stream",
     "text": [
      "\n",
      "\n",
      "\n",
      "Killed\n"
     ]
    },
    {
     "data": {
      "text/plain": [
       "5608   NaN\n",
       "3932   NaN\n",
       "990    NaN\n",
       "4976   NaN\n",
       "5097   NaN\n",
       "Name: Killed, dtype: float64"
      ]
     },
     "metadata": {},
     "output_type": "display_data"
    },
    {
     "name": "stdout",
     "output_type": "stream",
     "text": [
      "\n",
      "\n",
      "\n",
      "Accident and Rescue Summary\n"
     ]
    },
    {
     "data": {
      "text/plain": [
       "578     NaN\n",
       "991     NaN\n",
       "2463    NaN\n",
       "1508    NaN\n",
       "1299    NaN\n",
       "Name: Accident and Rescue Summary, dtype: object"
      ]
     },
     "metadata": {},
     "output_type": "display_data"
    },
    {
     "name": "stdout",
     "output_type": "stream",
     "text": [
      "\n",
      "\n",
      "\n",
      "Terrain Summary\n"
     ]
    },
    {
     "data": {
      "text/plain": [
       "5732    NaN\n",
       "387     NaN\n",
       "5052    NaN\n",
       "4032    NaN\n",
       "1895    NaN\n",
       "Name: Terrain Summary, dtype: object"
      ]
     },
     "metadata": {},
     "output_type": "display_data"
    },
    {
     "name": "stdout",
     "output_type": "stream",
     "text": [
      "\n",
      "\n",
      "\n",
      "Weather Conditions and History\n"
     ]
    },
    {
     "data": {
      "text/plain": [
       "3350    NaN\n",
       "5819    NaN\n",
       "2032    NaN\n",
       "4792    NaN\n",
       "3835    NaN\n",
       "Name: Weather Conditions and History, dtype: object"
      ]
     },
     "metadata": {},
     "output_type": "display_data"
    },
    {
     "name": "stdout",
     "output_type": "stream",
     "text": [
      "\n",
      "\n",
      "\n",
      "Comments 1\n"
     ]
    },
    {
     "data": {
      "text/plain": [
       "3259    The east aspect of the Birthday Bowls slid som...\n",
       "778     Logan Canyon re-opens to traffic after snow sl...\n",
       "2513    Widespread soft slab cycle on the 12th during ...\n",
       "1644    Trent and I were walking in a safe location al...\n",
       "982     Saw a wet slab, 30x30, probably snow plow trig...\n",
       "Name: Comments 1, dtype: object"
      ]
     },
     "metadata": {},
     "output_type": "display_data"
    },
    {
     "name": "stdout",
     "output_type": "stream",
     "text": [
      "\n",
      "\n",
      "\n",
      "Comments 2\n"
     ]
    },
    {
     "data": {
      "text/plain": [
       "954                                                   NaN\n",
       "3922                                                  NaN\n",
       "1984    The buried rider was in a party of three. He w...\n",
       "6                                                     NaN\n",
       "2140                                                  NaN\n",
       "Name: Comments 2, dtype: object"
      ]
     },
     "metadata": {},
     "output_type": "display_data"
    },
    {
     "name": "stdout",
     "output_type": "stream",
     "text": [
      "\n",
      "\n",
      "\n",
      "Comments 3\n"
     ]
    },
    {
     "data": {
      "text/plain": [
       "993     NaN\n",
       "2383    NaN\n",
       "3728    NaN\n",
       "5190    NaN\n",
       "5794    NaN\n",
       "Name: Comments 3, dtype: object"
      ]
     },
     "metadata": {},
     "output_type": "display_data"
    },
    {
     "name": "stdout",
     "output_type": "stream",
     "text": [
      "\n",
      "\n",
      "\n",
      "Comments 4\n"
     ]
    },
    {
     "data": {
      "text/plain": [
       "5180                                                  NaN\n",
       "3955    Bonus slide! Several inches deep and 20 feet w...\n",
       "5128                                                  NaN\n",
       "820                                                   NaN\n",
       "1648                                                  NaN\n",
       "Name: Comments 4, dtype: object"
      ]
     },
     "metadata": {},
     "output_type": "display_data"
    },
    {
     "name": "stdout",
     "output_type": "stream",
     "text": [
      "\n",
      "\n",
      "\n"
     ]
    }
   ],
   "source": [
    "from IPython.display import display\n",
    "\n",
    "for c in df.columns:\n",
    "    print(c)\n",
    "    display(df[c].sample(5))\n",
    "    print('\\n\\n')"
   ]
  },
  {
   "cell_type": "code",
   "execution_count": null,
   "id": "90c373a6-4424-498b-9020-55b486cbb4f6",
   "metadata": {},
   "outputs": [],
   "source": []
  }
 ],
 "metadata": {
  "kernelspec": {
   "display_name": "Python 3 (ipykernel)",
   "language": "python",
   "name": "python3"
  },
  "language_info": {
   "codemirror_mode": {
    "name": "ipython",
    "version": 3
   },
   "file_extension": ".py",
   "mimetype": "text/x-python",
   "name": "python",
   "nbconvert_exporter": "python",
   "pygments_lexer": "ipython3",
   "version": "3.9.12"
  }
 },
 "nbformat": 4,
 "nbformat_minor": 5
}
